{
 "cells": [
  {
   "cell_type": "markdown",
   "metadata": {},
   "source": [
    "## 1: Make a calculator using Python with Addition, Subtraction, Multiplication, Division and Power"
   ]
  },
  {
   "cell_type": "code",
   "execution_count": 1,
   "metadata": {},
   "outputs": [
    {
     "name": "stdout",
     "output_type": "stream",
     "text": [
      "Enter first number: 4\n",
      "Enter second number: 4\n",
      "\n",
      "Enter 1 for addition :\n",
      "Enter 2 for subtraction :\n",
      "Enter 3 for multiplication :\n",
      "Enter 4 for division :\n",
      "Enter 5 for power: \n",
      "Enter your choice: 1\n",
      "\n",
      "Answer : 8\n"
     ]
    }
   ],
   "source": [
    "num1 = int(input(\"Enter first number: \"))\n",
    "num2 = int(input(\"Enter second number: \"))\n",
    "\n",
    "print(\"\\nEnter 1 for addition :\")\n",
    "print(\"Enter 2 for subtraction :\")\n",
    "print(\"Enter 3 for multiplication :\")\n",
    "print(\"Enter 4 for division :\")\n",
    "print(\"Enter 5 for power: \")\n",
    "op = int(input(\"Enter your choice: \"))\n",
    "\n",
    "if op == 1:\n",
    "    t = num1+num2\n",
    "elif op == 2:\n",
    "    t = num1-num2\n",
    "elif op == 3:\n",
    "    t = num1*num2\n",
    "elif op == 4:\n",
    "    t = num1/num2\n",
    "elif op == 5:\n",
    "    t = num1**num2\n",
    "    \n",
    "print(\"\\nAnswer :\",  t)"
   ]
  },
  {
   "cell_type": "markdown",
   "metadata": {},
   "source": [
    "## 2. Write a program to check if there is any numeric value in list using for loop."
   ]
  },
  {
   "cell_type": "code",
   "execution_count": 2,
   "metadata": {},
   "outputs": [
    {
     "name": "stdout",
     "output_type": "stream",
     "text": [
      "Numeric value found : 99\n"
     ]
    }
   ],
   "source": [
    "the_list = [\"World\", \"1\", 99, \"Hello\"]\n",
    "for value in the_list:\n",
    "    if type(value) == int or type(value) == float:\n",
    "        print(f\"Numeric value found : {value}\")\n",
    "        break"
   ]
  },
  {
   "cell_type": "markdown",
   "metadata": {},
   "source": [
    "## 3. Write a python script to add a key to a dictionary."
   ]
  },
  {
   "cell_type": "code",
   "execution_count": 5,
   "metadata": {},
   "outputs": [
    {
     "name": "stdout",
     "output_type": "stream",
     "text": [
      "Key added\n"
     ]
    }
   ],
   "source": [
    "d = {}\n",
    "d[\"1\"] = \"Key added\"\n",
    "\n",
    "print(d[\"1\"])"
   ]
  },
  {
   "cell_type": "markdown",
   "metadata": {},
   "source": [
    "## 4. Write a python program to add all the numeric value in dictionary."
   ]
  },
  {
   "cell_type": "code",
   "execution_count": 8,
   "metadata": {},
   "outputs": [
    {
     "name": "stdout",
     "output_type": "stream",
     "text": [
      "Sum = 106.4\n"
     ]
    }
   ],
   "source": [
    "d = {1: 2 ,\n",
    "     2: \"Hello\", \n",
    "     3: 4.4, \n",
    "     4:\"World\",\n",
    "     5: 100}\n",
    "\n",
    "total = 0\n",
    "for x in d.values():\n",
    "    if type(x) == int or type(x) == float:\n",
    "        total = total + x        \n",
    "        \n",
    "print(f\"Sum = {total}\")"
   ]
  },
  {
   "cell_type": "markdown",
   "metadata": {},
   "source": [
    "## 5. Write a program to identify duplicate values from list."
   ]
  },
  {
   "cell_type": "code",
   "execution_count": 11,
   "metadata": {},
   "outputs": [
    {
     "name": "stdout",
     "output_type": "stream",
     "text": [
      "Duplicated Hello \n",
      "\n",
      "Duplicated Hello \n",
      "\n",
      "Duplicated 1 \n",
      "\n",
      "Duplicated 1 \n",
      "\n",
      "Duplicated 0.4 \n",
      "\n",
      "Duplicated 0.4 \n",
      "\n"
     ]
    }
   ],
   "source": [
    "l = [\"Hello\", \"Hello\", 1, 1, 0.4, 0.4, 2, 3, 4, 5, 6]\n",
    "for x in l:\n",
    "    if  l.count(x) > 1:\n",
    "        print(f\"Duplicated {x} \\n\")"
   ]
  },
  {
   "cell_type": "markdown",
   "metadata": {},
   "source": [
    "## 6. Write a python script to check if a given key already exists in a dictionary."
   ]
  },
  {
   "cell_type": "code",
   "execution_count": 13,
   "metadata": {},
   "outputs": [
    {
     "name": "stdout",
     "output_type": "stream",
     "text": [
      "3 Already exists\n"
     ]
    }
   ],
   "source": [
    "dic = { 1: \"key1\",\n",
    "            2: \"key2\",\n",
    "            3: \"key3\"}\n",
    "\n",
    "key = 3\n",
    "\n",
    "for x in dic.keys():\n",
    "    if x == key:\n",
    "        print(f\"{key} Already exists\")"
   ]
  }
 ],
 "metadata": {
  "kernelspec": {
   "display_name": "Python 3",
   "language": "python",
   "name": "python3"
  },
  "language_info": {
   "codemirror_mode": {
    "name": "ipython",
    "version": 3
   },
   "file_extension": ".py",
   "mimetype": "text/x-python",
   "name": "python",
   "nbconvert_exporter": "python",
   "pygments_lexer": "ipython3",
   "version": "3.7.3"
  }
 },
 "nbformat": 4,
 "nbformat_minor": 2
}
