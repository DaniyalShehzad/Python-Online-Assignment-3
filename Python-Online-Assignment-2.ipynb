{
 "cells": [
  {
   "cell_type": "markdown",
   "metadata": {},
   "source": [
    "# Write a program which takes 5 inputs from user for different subject’s marks, total it and generate mark sheet using grades"
   ]
  },
  {
   "cell_type": "code",
   "execution_count": 2,
   "metadata": {},
   "outputs": [
    {
     "name": "stdout",
     "output_type": "stream",
     "text": [
      "entre 1st subject marks=  50\n",
      "entre 2nd subject marks=  88\n",
      "entre 3rd subject marks=  67\n",
      "entre 4th subject marks=  45\n",
      "entre 5th subject marks=  34\n",
      "C grade\n"
     ]
    }
   ],
   "source": [
    "m1 = int(input(\"entre 1st subject marks=  \"))\n",
    "m2 = int(input(\"entre 2nd subject marks=  \"))\n",
    "m3 = int(input(\"entre 3rd subject marks=  \"))\n",
    "m4 = int(input(\"entre 4th subject marks=  \"))\n",
    "m5 = int(input(\"entre 5th subject marks=  \"))\n",
    "\n",
    "marks = m1 + m2 + m3 + m4 + m5\n",
    "\n",
    "if marks >= 0 and marks <=500:\n",
    "    \n",
    "    if marks >=400 and marks <= 500:\n",
    "        print (\"A grade\")\n",
    "    elif marks >= 300 and marks <=399:\n",
    "        print (\"B grade\")\n",
    "    elif marks >= 200 and marks <=299:\n",
    "        print (\"C grade\")\n",
    "    elif marks >= 100 and marks <=199:\n",
    "        print (\"D grade\")\n",
    "    else:\n",
    "        print(\"fail\")\n",
    "    \n",
    "else:\n",
    "    print(\"invalid marks\")"
   ]
  },
  {
   "cell_type": "markdown",
   "metadata": {},
   "source": [
    "# Write a program which take input from user and identify that the given number is even or odd?"
   ]
  },
  {
   "cell_type": "code",
   "execution_count": 3,
   "metadata": {},
   "outputs": [
    {
     "name": "stdout",
     "output_type": "stream",
     "text": [
      "input a number 5\n",
      "the number is odd\n"
     ]
    }
   ],
   "source": [
    "x = int(input(\"input a number \"))\n",
    "\n",
    "if x % 2 == 0:\n",
    "        print(\"the number is even\")\n",
    "else:\n",
    "        print(\"the number is odd\")"
   ]
  },
  {
   "cell_type": "markdown",
   "metadata": {},
   "source": [
    "# Write a program which print the length of the list?"
   ]
  },
  {
   "cell_type": "code",
   "execution_count": 7,
   "metadata": {},
   "outputs": [
    {
     "name": "stdout",
     "output_type": "stream",
     "text": [
      "The lenght of the list is 10\n"
     ]
    }
   ],
   "source": [
    "l = [2,4,5,7,4,3,4,6,8,9]\n",
    "print(\"The lenght of the list is\", len(l))"
   ]
  },
  {
   "cell_type": "markdown",
   "metadata": {},
   "source": [
    "# Write a Python program to sum all the numeric items in a list?"
   ]
  },
  {
   "cell_type": "code",
   "execution_count": 9,
   "metadata": {},
   "outputs": [
    {
     "data": {
      "text/plain": [
       "52"
      ]
     },
     "execution_count": 9,
     "metadata": {},
     "output_type": "execute_result"
    }
   ],
   "source": [
    "l = [2,4,5,7,4,3,4,6,8,9]\n",
    "sum(l)"
   ]
  },
  {
   "cell_type": "markdown",
   "metadata": {},
   "source": [
    "# Write a Python program to get the largest number from a numeric list."
   ]
  },
  {
   "cell_type": "code",
   "execution_count": 10,
   "metadata": {},
   "outputs": [
    {
     "data": {
      "text/plain": [
       "9"
      ]
     },
     "execution_count": 10,
     "metadata": {},
     "output_type": "execute_result"
    }
   ],
   "source": [
    "l = [2,4,5,7,4,3,4,6,8,9]\n",
    "max(l)"
   ]
  },
  {
   "cell_type": "markdown",
   "metadata": {},
   "source": [
    "# Take a list, say for example this one:\n",
    "a = [1, 1, 2, 3, 5, 8, 13, 21, 34, 55, 89]\n",
    "# and write a program that prints out all the elements of the list that are less than 5."
   ]
  },
  {
   "cell_type": "code",
   "execution_count": 12,
   "metadata": {},
   "outputs": [
    {
     "name": "stdout",
     "output_type": "stream",
     "text": [
      "1\n",
      "1\n",
      "2\n",
      "3\n"
     ]
    }
   ],
   "source": [
    "a = [1, 1, 2, 3, 5, 8, 13, 21, 34, 55, 89]\n",
    "for i in a:\n",
    "    if i < 5:\n",
    "        print(i)"
   ]
  },
  {
   "cell_type": "code",
   "execution_count": null,
   "metadata": {},
   "outputs": [],
   "source": []
  }
 ],
 "metadata": {
  "kernelspec": {
   "display_name": "Python 3",
   "language": "python",
   "name": "python3"
  },
  "language_info": {
   "codemirror_mode": {
    "name": "ipython",
    "version": 3
   },
   "file_extension": ".py",
   "mimetype": "text/x-python",
   "name": "python",
   "nbconvert_exporter": "python",
   "pygments_lexer": "ipython3",
   "version": "3.7.3"
  }
 },
 "nbformat": 4,
 "nbformat_minor": 2
}
