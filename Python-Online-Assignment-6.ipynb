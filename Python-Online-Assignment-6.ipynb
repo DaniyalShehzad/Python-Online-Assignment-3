{
 "cells": [
  {
   "cell_type": "markdown",
   "metadata": {},
   "source": [
    "# Question:1\n",
    "### Define Object Oriented Programming Language? \n",
    "* Ans: An object-oriented programming language (OOPL) is a high-level programming language based on the object-oriented model. Object-oriented programming (OOP) is a programming paradigm based on the concept of \"objects\", which can contain data, in the form of attributes or properties, and code in the form of methods)."
   ]
  },
  {
   "cell_type": "markdown",
   "metadata": {},
   "source": [
    "# Question:2\n",
    "### List down the Benefits of OOP?\n",
    "##### Ans:\n",
    "1. Reusability \n",
    "2. Data Redundancy \n",
    "3. Security \n",
    "4. Design Benifits \n",
    "5. Code Maintaince \n",
    "6. Better Productivity \n",
    "7. Easy Troubleshooting \n",
    "8. Polymorphism Flexibility \n",
    "9. Problem Solving"
   ]
  },
  {
   "cell_type": "markdown",
   "metadata": {},
   "source": [
    "# Question:3\n",
    "### Differentiate between function and method?\n",
    "\n",
    "* Function: A function is a piece of code that is called by name. It can be passed data to operate on (i.e. the parameters) and can optionally return data (the return value). All data that is passed to a function is explicitly passed.\n",
    "\n",
    "* Method: A method is a piece of code that is called by a name that is associated with an object. In most respects it is identical to a function except for two key differences:\n",
    "  1. A method is implicitly passed the object on which it was called. \n",
    "  2. A method is able to operate on data that is contained within the class (remembering that an object is an instance of a class - the class is the definition, the object is an instance of that data)."
   ]
  },
  {
   "cell_type": "markdown",
   "metadata": {},
   "source": [
    "# Question:4\n",
    "### Define the Following Terms: \n",
    "* Class: In OOP the class is a blueprint for creating a object(particularly data structure),providing intail values for state(attributes) and implementation of behaviour(methods).The Class is a bluerpitn to define the nature of future object.\n",
    "\n",
    "* Object: A unique instance of a data structure that's defined by its class. An object comprises both data members (class variables and instance variables) and methods.\n",
    "\n",
    "* Attributes: Attributes are data stored inside a class or instance and represent the state or quality of the class or instance. In short, attributes store information about the instance.\n",
    "\n",
    "* Behaviour: The behavior of an object is defined by its methods, which are the functions and subroutines defined within the object class."
   ]
  },
  {
   "cell_type": "markdown",
   "metadata": {},
   "source": [
    "# Question:5\n",
    "### Write a code in python in which create a class named it Car which have 5 attributes such like (model, color and name etc.) and 3 methods. And create 5 object instance from that class."
   ]
  },
  {
   "cell_type": "code",
   "execution_count": 4,
   "metadata": {},
   "outputs": [
    {
     "name": "stdout",
     "output_type": "stream",
     "text": [
      "Car name is 'Accord' \n",
      "color is 'Grey' \n",
      "model is '2020' \n",
      "It gives '3 kilometer per liter' avg \n",
      "registration number is '6545'\n",
      "The owner of Accord is Daniyal\n",
      "The new owner of a car is Fazeel\n"
     ]
    }
   ],
   "source": [
    "\n",
    "class Car() :\n",
    "    def __init__(self,name,color,model,avg,registration_num):\n",
    "        self.name = name\n",
    "        self.color = color\n",
    "        self.model = model\n",
    "        self.avg = avg\n",
    "        self.registration_num = registration_num\n",
    "     \n",
    "    def carDetail(self) :\n",
    "        print(\"Car name is '{}' \\ncolor is '{}' \\nmodel is '{}' \\nIt gives '{}' avg \\nregistration number is '{}'\".format(self.name,self.color,self.model,self.avg,self.registration_num))\n",
    "        \n",
    "    def owner(self,owner) :\n",
    "        print(\"The owner of {} is {}\".format(self.name,owner))\n",
    "        \n",
    "    def change_owner(self,newOwner) :\n",
    "        self.newOwner = newOwner\n",
    "        print(\"The new owner of a car is {}\".format(self.newOwner))\n",
    "        \n",
    "obj1 = Car(\"Accord\",\"Grey\",2020,\"3 kilometer per liter\",6545)\n",
    "\n",
    "obj1.carDetail()\n",
    "\n",
    "obj1.owner(\"Daniyal\")\n",
    "\n",
    "obj1.change_owner(\"Fazeel\")"
   ]
  },
  {
   "cell_type": "code",
   "execution_count": null,
   "metadata": {},
   "outputs": [],
   "source": []
  }
 ],
 "metadata": {
  "kernelspec": {
   "display_name": "Python 3",
   "language": "python",
   "name": "python3"
  },
  "language_info": {
   "codemirror_mode": {
    "name": "ipython",
    "version": 3
   },
   "file_extension": ".py",
   "mimetype": "text/x-python",
   "name": "python",
   "nbconvert_exporter": "python",
   "pygments_lexer": "ipython3",
   "version": "3.7.3"
  }
 },
 "nbformat": 4,
 "nbformat_minor": 2
}
